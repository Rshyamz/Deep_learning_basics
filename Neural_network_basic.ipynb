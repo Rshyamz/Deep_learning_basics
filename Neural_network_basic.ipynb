{
 "cells": [
  {
   "cell_type": "code",
   "execution_count": 1,
   "metadata": {
    "collapsed": true
   },
   "outputs": [],
   "source": [
    "import numpy as np\n"
   ]
  },
  {
   "cell_type": "code",
   "execution_count": 3,
   "metadata": {
    "collapsed": true
   },
   "outputs": [],
   "source": [
    "## Step Zero\n",
    "##Read inputs and outputs\n",
    "\n",
    "#X =np.array([[1,0,1,0],[1,0,1,1],[0,1,0,1]])\n",
    "X =np.array([[1,0,1,0],[1,0,1,1]])\n",
    "Y = np.array([[1,0]]).T"
   ]
  },
  {
   "cell_type": "code",
   "execution_count": 4,
   "metadata": {
    "collapsed": true
   },
   "outputs": [],
   "source": [
    "##Step 1\n",
    "## Initialize weights and biases with random values \n",
    "#(There are methods to initialize weights and biases but \n",
    "#for now initialize with random values)\n",
    "np.random.seed(42) ##seeding \n",
    "\n",
    "##weights and bias for Hidden layer\n",
    "W_HL = 2 * np.random.random((4,3)) -1 ## sacling between -1 to +1\n",
    "B_HL = 2 * np.random.random((1,3)) - 1\n",
    "\n",
    "\n",
    "## weights and bias for output layer\n",
    "W_OL =  2 * np.random.random((3,1)) - 1\n",
    "B_OL = 2 * np.random.random((1,1)) - 1\n"
   ]
  },
  {
   "cell_type": "code",
   "execution_count": 5,
   "metadata": {},
   "outputs": [
    {
     "data": {
      "text/plain": [
       "array([[ 0.66488528, -0.57532178, -0.63635007]])"
      ]
     },
     "execution_count": 5,
     "metadata": {},
     "output_type": "execute_result"
    }
   ],
   "source": [
    "B_HL"
   ]
  },
  {
   "cell_type": "code",
   "execution_count": 7,
   "metadata": {},
   "outputs": [],
   "source": [
    "##Step2 calculate hidden layer input\n",
    "#hidden_layer_input = matrix_dot_product(X,wh) + bh\n",
    "HL_input =  np.dot(X,W_HL) + B_HL"
   ]
  },
  {
   "cell_type": "code",
   "execution_count": 48,
   "metadata": {},
   "outputs": [
    {
     "data": {
      "text/plain": [
       "(4, 3)"
      ]
     },
     "execution_count": 48,
     "metadata": {},
     "output_type": "execute_result"
    }
   ],
   "source": []
  },
  {
   "cell_type": "code",
   "execution_count": 8,
   "metadata": {},
   "outputs": [
    {
     "data": {
      "text/plain": [
       "array([[-0.46986726,  1.05845913,  0.02986784],\n",
       "       [-0.0537221 ,  0.09962811,  0.96968755]])"
      ]
     },
     "execution_count": 8,
     "metadata": {},
     "output_type": "execute_result"
    }
   ],
   "source": [
    "HL_input"
   ]
  },
  {
   "cell_type": "code",
   "execution_count": 9,
   "metadata": {
    "collapsed": true
   },
   "outputs": [],
   "source": [
    "##Step 3: Perform non-linear transformation on hidden linear input\n",
    "#hidden layer activations\n",
    "\n",
    "def sig(x):\n",
    "    return 1/(1+ np.exp(-x))\n",
    "\n",
    "\n",
    "HL_activations = sig(HL_input)\n",
    "    "
   ]
  },
  {
   "cell_type": "code",
   "execution_count": 10,
   "metadata": {},
   "outputs": [
    {
     "data": {
      "text/plain": [
       "array([[0.38464766, 0.74239597, 0.50746641],\n",
       "       [0.4865727 , 0.52488645, 0.72505721]])"
      ]
     },
     "execution_count": 10,
     "metadata": {},
     "output_type": "execute_result"
    }
   ],
   "source": [
    "HL_activations"
   ]
  },
  {
   "cell_type": "code",
   "execution_count": 11,
   "metadata": {
    "collapsed": true
   },
   "outputs": [],
   "source": [
    "##Step 4: Perform linear and non-linear transformation of hidden layer activation\n",
    "## at outputlayer\n",
    "OL_input = np.dot(HL_activations,W_OL) + B_OL"
   ]
  },
  {
   "cell_type": "code",
   "execution_count": 12,
   "metadata": {
    "collapsed": true
   },
   "outputs": [],
   "source": [
    "## Step 5 output at outputlayer\n",
    "output = sig(OL_input)"
   ]
  },
  {
   "cell_type": "code",
   "execution_count": 13,
   "metadata": {
    "collapsed": true
   },
   "outputs": [],
   "source": [
    "## BACK PROPAGATION STARTS\n",
    "#Step 5: Calculate gradient of Error(E) at output layer\n",
    "Err = Y-output"
   ]
  },
  {
   "cell_type": "code",
   "execution_count": 14,
   "metadata": {},
   "outputs": [
    {
     "data": {
      "text/plain": [
       "array([[ 0.65592771],\n",
       "       [-0.35119173]])"
      ]
     },
     "execution_count": 14,
     "metadata": {},
     "output_type": "execute_result"
    }
   ],
   "source": [
    "Err\n"
   ]
  },
  {
   "cell_type": "code",
   "execution_count": 15,
   "metadata": {
    "collapsed": true
   },
   "outputs": [],
   "source": [
    "#Step 6: Compute slope at output and hidden layer\n",
    "\n",
    "def deri_sig(x):\n",
    "    return x*(1-x)\n",
    "\n"
   ]
  },
  {
   "cell_type": "code",
   "execution_count": 16,
   "metadata": {
    "collapsed": true
   },
   "outputs": [],
   "source": [
    "#Slope_output_layer= derivatives_sigmoid(output)\n",
    "derivative_OL = deri_sig(output)\n",
    "\n",
    "#Slope_hidden_layer = derivatives_sigmoid(hiddenlayer_activations)\n",
    "derivative_HL = deri_sig(HL_activations)"
   ]
  },
  {
   "cell_type": "code",
   "execution_count": 17,
   "metadata": {
    "collapsed": true
   },
   "outputs": [],
   "source": [
    "##Step 7: Compute delta at output layer\n",
    "O_delta = Err*derivative_OL\n",
    "\n"
   ]
  },
  {
   "cell_type": "code",
   "execution_count": 19,
   "metadata": {
    "collapsed": true
   },
   "outputs": [],
   "source": [
    "##Step 8: Calculate Error at hidden layer\n",
    "\n",
    "Err_HL = np.dot(O_delta, W_OL.T)"
   ]
  },
  {
   "cell_type": "code",
   "execution_count": 20,
   "metadata": {
    "collapsed": true
   },
   "outputs": [],
   "source": [
    "##Step 9: Compute delta at hidden layer\n",
    "\n",
    "H_delta = Err_HL * derivative_HL"
   ]
  },
  {
   "cell_type": "code",
   "execution_count": 21,
   "metadata": {
    "collapsed": true
   },
   "outputs": [],
   "source": [
    "##Step 10: Update weight at both output and hidden layer\n",
    "learning_rate =1\n",
    "W_OL = W_OL + np.dot(HL_activations.T, O_delta) * learning_rate\n",
    "W_HL = W_HL + np.dot(X.T,H_delta) * learning_rate"
   ]
  },
  {
   "cell_type": "code",
   "execution_count": 46,
   "metadata": {},
   "outputs": [],
   "source": [
    "##Step 11: Update bias of both Output and Hidden Layer\n",
    "B_HL = B_HL + np.sum(H_delta,axis=0)*learning_rate\n",
    "B_OL = B_OL + np.sum(O_delta,axis=0)* learning_rate"
   ]
  },
  {
   "cell_type": "code",
   "execution_count": null,
   "metadata": {
    "collapsed": true
   },
   "outputs": [],
   "source": []
  }
 ],
 "metadata": {
  "kernelspec": {
   "display_name": "new_walkin",
   "language": "python",
   "name": "new_walkin"
  },
  "language_info": {
   "codemirror_mode": {
    "name": "ipython",
    "version": 2
   },
   "file_extension": ".py",
   "mimetype": "text/x-python",
   "name": "python",
   "nbconvert_exporter": "python",
   "pygments_lexer": "ipython2",
   "version": "2.7.12"
  }
 },
 "nbformat": 4,
 "nbformat_minor": 2
}
